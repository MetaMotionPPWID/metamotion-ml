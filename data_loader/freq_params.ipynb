{
 "cells": [
  {
   "cell_type": "code",
   "execution_count": 1,
   "id": "cfa4f4e9",
   "metadata": {},
   "outputs": [],
   "source": [
    "from data_loader import TimeWindowSegmenter\n"
   ]
  },
  {
   "cell_type": "code",
   "execution_count": 2,
   "id": "4d813cc8",
   "metadata": {},
   "outputs": [
    {
     "name": "stdout",
     "output_type": "stream",
     "text": [
      "fix timestamps\n",
      "end of fixing timestamps\n"
     ]
    }
   ],
   "source": [
    "data_processor = TimeWindowSegmenter(\n",
    "  df_path=\"wsidm.parquet\",\n",
    "  window_size=10,   # 10 sekund\n",
    "  step_size=10,     # 10 sekund - ramki się nie pokrywają w danych\n",
    ")"
   ]
  },
  {
   "cell_type": "code",
   "execution_count": 3,
   "id": "b5d4b0f6",
   "metadata": {},
   "outputs": [],
   "source": [
    "import numpy as np\n",
    "from scipy.signal import welch\n",
    "from scipy.fft import fft"
   ]
  },
  {
   "cell_type": "code",
   "execution_count": 4,
   "id": "c1be42fd",
   "metadata": {},
   "outputs": [],
   "source": [
    "def dominant_frequency(signal, fs):\n",
    "    \"\"\"\n",
    "    Dominująca częstotliwość to ta składowa częstotliwościowa sygnału, \n",
    "    która posiada największą moc (czyli największą amplitudę w widmie mocy). \n",
    "    Jest to częstotliwość, która dominuje energetycznie w analizowanym odcinku czasu.\n",
    "    \"\"\"\n",
    "    freqs, psd = welch(signal, fs, nperseg=len(signal))\n",
    "    dom_freq = freqs[np.argmax(psd)]\n",
    "    return dom_freq"
   ]
  },
  {
   "cell_type": "code",
   "execution_count": 5,
   "id": "cad07a4e",
   "metadata": {},
   "outputs": [],
   "source": [
    "def spectral_entropy(signal, fs):\n",
    "    \"\"\"\n",
    "     Entropia widmowa to miara nieuporządkowania lub losowości rozkładu widmowego sygnału. \n",
    "     Bazuje na teorii informacji (entropii Shannona) i opisuje, jak równomiernie rozłożona \n",
    "     jest energia sygnału w domenie częstotliwości.\n",
    "\n",
    "     - Niska entropia oznacza, że energia jest skoncentrowana wokół kilku częstotliwości — sygnał jest bardziej \"uporządkowany\".\n",
    "     - Wysoka entropia sugeruje rozproszenie energii po wielu częstotliwościach — sygnał jest bardziej \"chaotyczny\"\n",
    "    \"\"\"\n",
    "    _, psd = welch(signal, fs, nperseg=len(signal))\n",
    "    psd_norm = psd / np.sum(psd)  # normalizacja\n",
    "    entropy = -np.sum(psd_norm * np.log2(psd_norm + 1e-12))  # dodajemy epsilon żeby uniknąć log(0)\n",
    "    entropy /= np.log2(len(psd_norm))  # normalizacja do [0,1]\n",
    "    return entropy"
   ]
  },
  {
   "cell_type": "code",
   "execution_count": 6,
   "id": "93168503",
   "metadata": {},
   "outputs": [],
   "source": [
    "def spectral_energy(signal):\n",
    "    \"\"\"\n",
    "    Energia widmowa to całkowita suma energii zawarta w widmie sygnału. \n",
    "    Można ją rozumieć jako \"siłę\" sygnału rozłożoną w dziedzinie częstotliwości.\n",
    "    \n",
    "    - Pomaga ocenić ogólną intensywność sygnału — im większa energia, tym silniejszy \n",
    "    jest sygnał w danym zakresie czasu.\n",
    "    \"\"\"\n",
    "    spectrum = np.abs(fft(signal))**2\n",
    "    energy = np.sum(spectrum) / len(spectrum) # normalizujemy do długości sygnału\n",
    "    return energy"
   ]
  },
  {
   "cell_type": "code",
   "execution_count": 7,
   "id": "21e9f556",
   "metadata": {},
   "outputs": [],
   "source": [
    "def spectral_bandwidth(signal, fs):\n",
    "    \"\"\"\n",
    "    Szerokość pasma — odchylenie standardowe widma względem środka ciężkości (centroidu).\n",
    "\n",
    "    - Małe pasmo sugeruje, że sygnał zawiera głównie wąski zakres częstotliwości.\n",
    "    - Duże pasmo oznacza obecność wielu różnych składowych częstotliwościowych — np. złożone sygnały biologiczne.\n",
    "    \"\"\"\n",
    "    freqs, psd = welch(signal, fs, nperseg=len(signal))\n",
    "    psd_norm = psd / np.sum(psd)\n",
    "    centroid = np.sum(freqs * psd_norm)\n",
    "    bandwidth = np.sqrt(np.sum(((freqs - centroid) ** 2) * psd_norm))\n",
    "    return bandwidth"
   ]
  },
  {
   "cell_type": "code",
   "execution_count": 8,
   "id": "4be470cc",
   "metadata": {},
   "outputs": [],
   "source": [
    "def extract_features_from_window(window, fs=20):  # 200 próbek = 10s -> fs = 20 Hz\n",
    "    features = []\n",
    "    axes = ['ac_x', 'ac_y', 'ac_z', 'g_x', 'g_y', 'g_z']\n",
    "    for axis in axes:\n",
    "        signal = window[axis].astype(float).values\n",
    "        features.extend([\n",
    "            dominant_frequency(signal, fs),\n",
    "            spectral_entropy(signal, fs),\n",
    "            spectral_energy(signal),\n",
    "            spectral_bandwidth(signal, fs),\n",
    "        ])\n",
    "    return features"
   ]
  },
  {
   "cell_type": "code",
   "execution_count": 10,
   "id": "0b052f28",
   "metadata": {},
   "outputs": [
    {
     "name": "stderr",
     "output_type": "stream",
     "text": [
      "Segmenting: 100%|██████████| 250/250 [00:08<00:00, 29.96it/s]\n"
     ]
    }
   ],
   "source": [
    "X = []\n",
    "Y = []\n",
    "for window in data_processor.segment():\n",
    "    features = extract_features_from_window(window)\n",
    "    label = window['Activity Label'].mode()[0]\n",
    "    X.append(features)\n",
    "    Y.append(label)"
   ]
  }
 ],
 "metadata": {
  "kernelspec": {
   "display_name": ".venv",
   "language": "python",
   "name": "python3"
  },
  "language_info": {
   "codemirror_mode": {
    "name": "ipython",
    "version": 3
   },
   "file_extension": ".py",
   "mimetype": "text/x-python",
   "name": "python",
   "nbconvert_exporter": "python",
   "pygments_lexer": "ipython3",
   "version": "3.10.16"
  }
 },
 "nbformat": 4,
 "nbformat_minor": 5
}
