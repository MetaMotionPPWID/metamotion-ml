{
 "cells": [
  {
   "cell_type": "code",
   "execution_count": null,
   "id": "cfa4f4e9",
   "metadata": {},
   "outputs": [],
   "source": [
    "import os\n",
    "import pandas as pd"
   ]
  },
  {
   "cell_type": "code",
   "execution_count": 17,
   "id": "8e8dee48",
   "metadata": {},
   "outputs": [],
   "source": [
    "activity_map = {\n",
    "    \"A\": \"walking\", \n",
    "    \"B\": \"jogging\", \n",
    "    \"C\": \"stairs\", \n",
    "    \"D\": \"sitting\", \n",
    "    \"E\": \"standing\", \n",
    "    \"F\": \"typing\", \n",
    "    \"G\": \"teeth\", \n",
    "    \"H\": \"soup\", \n",
    "    \"I\": \"chips\", \n",
    "    \"J\": \"pasta\", \n",
    "    \"K\": \"drinking\", \n",
    "    \"L\": \"sandwich\", \n",
    "    \"M\": \"kicking\", \n",
    "    \"O\": \"catch\", \n",
    "    \"P\": \"dribbling\", \n",
    "    \"Q\": \"writing\", \n",
    "    \"R\": \"clapping\", \n",
    "    \"S\": \"folding\"\n",
    "}"
   ]
  },
  {
   "cell_type": "code",
   "execution_count": 3,
   "id": "697fa9c1",
   "metadata": {},
   "outputs": [],
   "source": [
    "def load_txt_data(file_path, header_line):\n",
    "    \"\"\"\n",
    "    Wczytuje dane z pliku tekstowego, dodaje nagłówki i zwraca DataFrame.\n",
    "\n",
    "    Args:\n",
    "        file_path (str): Ścieżka do pliku tekstowego.\n",
    "        header_line (str): Nagłówki kolumn w formacie CSV.\n",
    "\n",
    "    Returns:\n",
    "        pd.DataFrame: DataFrame z wczytanymi danymi.\n",
    "    \"\"\"\n",
    "    try:\n",
    "        # Rozdziel nagłówki na listę\n",
    "        headers = header_line.split(\",\")\n",
    "        \n",
    "        # Wczytaj dane, usuwając średnik na końcu każdej linii\n",
    "        data = pd.read_csv(file_path, sep=\",\", header=None, names=headers, engine=\"python\")\n",
    "        \n",
    "        # Usuń ewentualne spacje w nazwach kolumn\n",
    "        data.columns = data.columns.str.strip()\n",
    "        \n",
    "        return data\n",
    "    except Exception as e:\n",
    "        print(f\"Error loading file {file_path}: {e}\")\n",
    "        return None"
   ]
  },
  {
   "cell_type": "code",
   "execution_count": 11,
   "id": "9def5fbc",
   "metadata": {},
   "outputs": [],
   "source": [
    "def load_all_files_in_folder(folder_path, header_line):\n",
    "    \"\"\"\n",
    "    Wczytuje wszystkie pliki z danego folderu, łączy je w jedną ramkę danych.\n",
    "\n",
    "    Args:\n",
    "        folder_path (str): Ścieżka do folderu z plikami.\n",
    "        header_line (str): Nagłówki kolumn w formacie CSV.\n",
    "\n",
    "    Returns:\n",
    "        pd.DataFrame: Połączona ramka danych z wszystkich plików.\n",
    "    \"\"\"\n",
    "    all_data = []\n",
    "    for file_name in os.listdir(folder_path):\n",
    "        file_path = os.path.join(folder_path, file_name)\n",
    "        if os.path.isfile(file_path) and file_name.endswith(\".txt\"):\n",
    "            data = load_txt_data(file_path, header_line)\n",
    "            if data is not None:\n",
    "                all_data.append(data)\n",
    "    \n",
    "    # Połącz wszystkie ramki danych w jedną\n",
    "    combined_data = pd.concat(all_data, ignore_index=True)\n",
    "    return combined_data"
   ]
  },
  {
   "cell_type": "code",
   "execution_count": 25,
   "id": "108849c1",
   "metadata": {},
   "outputs": [
    {
     "name": "stdout",
     "output_type": "stream",
     "text": [
      "<class 'pandas.core.frame.DataFrame'>\n",
      "RangeIndex: 3777046 entries, 0 to 3777045\n",
      "Data columns (total 6 columns):\n",
      " #   Column          Dtype  \n",
      "---  ------          -----  \n",
      " 0   Subject-id      int64  \n",
      " 1   Activity Label  object \n",
      " 2   Timestamp       int64  \n",
      " 3   ac_x            float64\n",
      " 4   ac_y            float64\n",
      " 5   ac_z            object \n",
      "dtypes: float64(2), int64(2), object(2)\n",
      "memory usage: 172.9+ MB\n",
      "None\n",
      "<class 'pandas.core.frame.DataFrame'>\n",
      "RangeIndex: 3440342 entries, 0 to 3440341\n",
      "Data columns (total 6 columns):\n",
      " #   Column          Dtype  \n",
      "---  ------          -----  \n",
      " 0   Subject-id      int64  \n",
      " 1   Activity Label  object \n",
      " 2   Timestamp       int64  \n",
      " 3   g_x             float64\n",
      " 4   g_y             float64\n",
      " 5   g_z             object \n",
      "dtypes: float64(2), int64(2), object(2)\n",
      "memory usage: 157.5+ MB\n",
      "None\n"
     ]
    }
   ],
   "source": [
    "\n",
    "accel_header_line = \"Subject-id,Activity Label,Timestamp,ac_x,ac_y,ac_z\"\n",
    "gyro_header_line = \"Subject-id,Activity Label,Timestamp,g_x,g_y,g_z\"\n",
    "accel_dir_path = \"d:/metamotion-ml/data_loader/wisdm-dataset/raw/accel/\"\n",
    "gyro_dir_path = \"d:/metamotion-ml/data_loader/wisdm-dataset/raw/gyro/\"\n",
    "\n",
    "accel_data = load_all_files_in_folder(accel_dir_path, accel_header_line)\n",
    "print(accel_data.info())\n",
    "gyro_data = load_all_files_in_folder(gyro_dir_path, gyro_header_line)\n",
    "print(gyro_data.info())\n"
   ]
  },
  {
   "cell_type": "code",
   "execution_count": 26,
   "id": "fcce59b1",
   "metadata": {},
   "outputs": [],
   "source": [
    "merged_df = pd.merge(accel_data, gyro_data, on=[\"Subject-id\", \"Timestamp\", \"Activity Label\"], how=\"inner\")"
   ]
  },
  {
   "cell_type": "code",
   "execution_count": 27,
   "id": "cefb3ca1",
   "metadata": {},
   "outputs": [],
   "source": [
    "merged_df['Activity Label'] = merged_df['Activity Label'].replace(activity_map)"
   ]
  },
  {
   "cell_type": "code",
   "execution_count": 28,
   "id": "5a0dade1",
   "metadata": {},
   "outputs": [],
   "source": [
    "allowed_activities = ['walking', 'jogging', 'stairs', 'sitting', 'standing']  # Lista dozwolonych wartości\n",
    "filtered_df = merged_df[merged_df['Activity Label'].isin(allowed_activities)]"
   ]
  },
  {
   "cell_type": "code",
   "execution_count": 29,
   "id": "42a3bafe",
   "metadata": {},
   "outputs": [
    {
     "data": {
      "text/plain": [
       "Activity Label\n",
       "standing    195324\n",
       "sitting     192594\n",
       "walking     186149\n",
       "stairs      183264\n",
       "jogging     181618\n",
       "Name: count, dtype: int64"
      ]
     },
     "execution_count": 29,
     "metadata": {},
     "output_type": "execute_result"
    }
   ],
   "source": [
    "filtered_df['Activity Label'].value_counts()"
   ]
  },
  {
   "cell_type": "code",
   "execution_count": 32,
   "id": "9eb20db8",
   "metadata": {},
   "outputs": [
    {
     "data": {
      "text/plain": [
       "Subject-id\n",
       "1629    72064\n",
       "1621    24534\n",
       "1628    23509\n",
       "1645    20158\n",
       "1650    19761\n",
       "1647    18671\n",
       "1602    18111\n",
       "1625    18030\n",
       "1624    18027\n",
       "1600    18019\n",
       "1614    18019\n",
       "1630    18018\n",
       "1626    18018\n",
       "1627    18017\n",
       "1631    18017\n",
       "1632    18017\n",
       "1611    18016\n",
       "1634    18016\n",
       "1604    18016\n",
       "1622    18016\n",
       "1635    18015\n",
       "1636    18015\n",
       "1610    18015\n",
       "1606    18015\n",
       "1617    18015\n",
       "1633    18015\n",
       "1615    18015\n",
       "1608    18015\n",
       "1609    18015\n",
       "1612    18015\n",
       "1620    18015\n",
       "1618    18014\n",
       "1605    18012\n",
       "1603    18011\n",
       "1607    18010\n",
       "1648    18009\n",
       "1649    18007\n",
       "1601    18007\n",
       "1613    18006\n",
       "1641    18005\n",
       "1619    18000\n",
       "1623    18000\n",
       "1646    17994\n",
       "1644    17992\n",
       "1643    17991\n",
       "1616    14412\n",
       "1642    14396\n",
       "1638    11682\n",
       "1639     6819\n",
       "1640     5965\n",
       "1637     4398\n",
       "Name: count, dtype: int64"
      ]
     },
     "execution_count": 32,
     "metadata": {},
     "output_type": "execute_result"
    }
   ],
   "source": [
    "filtered_df['Subject-id'].value_counts()"
   ]
  },
  {
   "cell_type": "code",
   "execution_count": 31,
   "id": "88027ebd",
   "metadata": {},
   "outputs": [],
   "source": [
    "filtered_df.to_parquet(\"wsidm.parquet\", compression=\"snappy\")"
   ]
  }
 ],
 "metadata": {
  "kernelspec": {
   "display_name": ".venv",
   "language": "python",
   "name": "python3"
  },
  "language_info": {
   "codemirror_mode": {
    "name": "ipython",
    "version": 3
   },
   "file_extension": ".py",
   "mimetype": "text/x-python",
   "name": "python",
   "nbconvert_exporter": "python",
   "pygments_lexer": "ipython3",
   "version": "3.10.16"
  }
 },
 "nbformat": 4,
 "nbformat_minor": 5
}
